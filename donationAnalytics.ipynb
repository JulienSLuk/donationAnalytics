{
 "cells": [
  {
   "cell_type": "code",
   "execution_count": 1,
   "metadata": {},
   "outputs": [
    {
     "name": "stdout",
     "output_type": "stream",
     "text": [
      "Index(['age', 'income', 'loyalty_points', 'purchase_frequency', 'donated'], dtype='object')\n",
      "Accuracy: 1.0\n",
      "Classification Report:\n",
      "              precision    recall  f1-score   support\n",
      "\n",
      "           0       1.00      1.00      1.00         1\n",
      "           1       1.00      1.00      1.00         1\n",
      "\n",
      "    accuracy                           1.00         2\n",
      "   macro avg       1.00      1.00      1.00         2\n",
      "weighted avg       1.00      1.00      1.00         2\n",
      "\n"
     ]
    }
   ],
   "source": [
    "import pandas as pd\n",
    "from sklearn.model_selection import train_test_split\n",
    "from sklearn.ensemble import RandomForestClassifier\n",
    "from sklearn.metrics import accuracy_score, classification_report\n",
    "from sklearn.preprocessing import StandardScaler\n",
    "\n",
    "# Load your dataset\n",
    "data = pd.read_csv('donation_data.csv')\n",
    "\n",
    "# Check the actual column names\n",
    "print(data.columns)\n",
    "\n",
    "# Data preprocessing\n",
    "# For simplicity, let's assume you have a feature 'donated' as the target variable\n",
    "# Ensure that the column name matches the actual column name in your dataset\n",
    "X = data.drop('donated', axis=1)\n",
    "y = data['donated']\n",
    "\n",
    "# Split the data into training and testing sets\n",
    "X_train, X_test, y_train, y_test = train_test_split(X, y, test_size=0.2, random_state=42)\n",
    "\n",
    "# Feature scaling\n",
    "scaler = StandardScaler()\n",
    "X_train_scaled = scaler.fit_transform(X_train)\n",
    "X_test_scaled = scaler.transform(X_test)\n",
    "\n",
    "# Create a Random Forest Classifier\n",
    "clf = RandomForestClassifier(n_estimators=100, random_state=42)\n",
    "\n",
    "# Train the model\n",
    "clf.fit(X_train_scaled, y_train)\n",
    "\n",
    "# Make predictions on the test set\n",
    "predictions = clf.predict(X_test_scaled)\n",
    "\n",
    "# Evaluate the model\n",
    "accuracy = accuracy_score(y_test, predictions)\n",
    "print(f'Accuracy: {accuracy}')\n",
    "\n",
    "# Display classification report for more detailed metrics\n",
    "print('Classification Report:')\n",
    "print(classification_report(y_test, predictions))\n"
   ]
  },
  {
   "cell_type": "markdown",
   "metadata": {},
   "source": [
    "pip install dash pandas plotly"
   ]
  },
  {
   "cell_type": "code",
   "execution_count": 2,
   "metadata": {},
   "outputs": [
    {
     "name": "stderr",
     "output_type": "stream",
     "text": [
      "C:\\Users\\julie\\AppData\\Local\\Temp\\ipykernel_18968\\2914397480.py:2: UserWarning: \n",
      "The dash_core_components package is deprecated. Please replace\n",
      "`import dash_core_components as dcc` with `from dash import dcc`\n",
      "  import dash_core_components as dcc\n",
      "C:\\Users\\julie\\AppData\\Local\\Temp\\ipykernel_18968\\2914397480.py:3: UserWarning: \n",
      "The dash_html_components package is deprecated. Please replace\n",
      "`import dash_html_components as html` with `from dash import html`\n",
      "  import dash_html_components as html\n"
     ]
    },
    {
     "data": {
      "text/html": [
       "\n",
       "        <iframe\n",
       "            width=\"100%\"\n",
       "            height=\"650\"\n",
       "            src=\"http://127.0.0.1:8050/\"\n",
       "            frameborder=\"0\"\n",
       "            allowfullscreen\n",
       "            \n",
       "        ></iframe>\n",
       "        "
      ],
      "text/plain": [
       "<IPython.lib.display.IFrame at 0x1ad46289110>"
      ]
     },
     "metadata": {},
     "output_type": "display_data"
    }
   ],
   "source": [
    "import dash\n",
    "import dash_core_components as dcc\n",
    "import dash_html_components as html\n",
    "from dash.dependencies import Input, Output\n",
    "import pandas as pd\n",
    "import plotly.express as px\n",
    "from sklearn.ensemble import RandomForestClassifier\n",
    "from sklearn.preprocessing import StandardScaler\n",
    "\n",
    "# Load your dataset\n",
    "data = pd.read_csv('donation_data.csv')\n",
    "\n",
    "# Assume 'donated' is your target variable\n",
    "X = data.drop('donated', axis=1)\n",
    "y = data['donated']\n",
    "\n",
    "# Feature scaling\n",
    "scaler = StandardScaler()   \n",
    "X_scaled = scaler.fit_transform(X)\n",
    "\n",
    "# Create and train the Random Forest Classifier\n",
    "clf = RandomForestClassifier(n_estimators=100, random_state=42)\n",
    "clf.fit(X_scaled, y)\n",
    "\n",
    "# Generate new data points for projection\n",
    "new_data = pd.DataFrame({\n",
    "    'age': [27, 36, 42],\n",
    "    'income': [55000, 72000, 90000],\n",
    "    'loyalty_points': [130, 190, 240],\n",
    "    'purchase_frequency': [0.6, 0.9, 1.1]\n",
    "})\n",
    "\n",
    "# Scale the new data\n",
    "new_data_scaled = scaler.transform(new_data)\n",
    "\n",
    "# Predictions for the new data\n",
    "predicted_donations = clf.predict(new_data_scaled)\n",
    "\n",
    "# Add the predictions to the new_data DataFrame\n",
    "new_data['projected_donation'] = predicted_donations\n",
    "\n",
    "# Initialize the Dash app\n",
    "app = dash.Dash(__name__)\n",
    "\n",
    "# Define the layout of the dashboard\n",
    "app.layout = html.Div([\n",
    "    html.H1(\"Donation Analytics Dashboard\"),\n",
    "\n",
    "    # Scatter plot for age vs. income\n",
    "    dcc.Graph(\n",
    "        id='scatter-plot',\n",
    "        figure=px.scatter(data, x='age', y='income', color='donated', title='Age vs. Income'),\n",
    "    ),\n",
    "\n",
    "    # Bar chart for loyalty points\n",
    "    dcc.Graph(\n",
    "        id='bar-chart',\n",
    "        figure=px.bar(data, x='loyalty_points', color='donated', title='Loyalty Points Distribution'),\n",
    "    ),\n",
    "\n",
    "    # Pie chart for donation distribution\n",
    "    dcc.Graph(\n",
    "        id='pie-chart',\n",
    "        figure=px.pie(data, names='donated', title='Donation Distribution'),\n",
    "    ),\n",
    "\n",
    "    # Bar chart for projected donation\n",
    "    dcc.Graph(\n",
    "        id='projected-donation-chart',\n",
    "        figure=px.bar(new_data, x='projected_donation', title='Projected Donation Distribution'),\n",
    "    ),\n",
    "])\n",
    "\n",
    "if __name__ == '__main__':\n",
    "    app.run_server(debug=True)\n"
   ]
  }
 ],
 "metadata": {
  "kernelspec": {
   "display_name": "Python 3",
   "language": "python",
   "name": "python3"
  },
  "language_info": {
   "codemirror_mode": {
    "name": "ipython",
    "version": 3
   },
   "file_extension": ".py",
   "mimetype": "text/x-python",
   "name": "python",
   "nbconvert_exporter": "python",
   "pygments_lexer": "ipython3",
   "version": "3.11.7"
  }
 },
 "nbformat": 4,
 "nbformat_minor": 2
}
